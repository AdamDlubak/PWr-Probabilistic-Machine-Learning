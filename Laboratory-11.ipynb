{
 "cells": [
  {
   "cell_type": "markdown",
   "metadata": {},
   "source": [
    "# List 11\n",
    "## Hidden Markov models (HMM) - Inference\n",
    "\n",
    "### Knowledge & Skills:\n",
    "\n",
    " - HMM\n",
    " - Viterbi algorithm\n",
    " \n",
    "### Remarks\n",
    " - Do not repeat yourself, check if the implementation of one task is also the implementation of others,\n",
    " - Do not copy your code, create functions and reuse them\n",
    " - Use env that will help you solve problems not create new ones in given task\n",
    " - [YouTube](https://www.youtube.com/watch?v=RwwfUICZLsA)\n",
    " - [YouTube 2](https://www.youtube.com/watch?v=0dVUfYF8ko0)\n"
   ]
  },
  {
   "cell_type": "code",
   "execution_count": 1,
   "metadata": {},
   "outputs": [
    {
     "name": "stdout",
     "output_type": "stream",
     "text": [
      "Requirement already satisfied: numpy in c:\\programy\\anaconda\\lib\\site-packages (1.14.3)\n",
      "Requirement already satisfied: pandas in c:\\programy\\anaconda\\lib\\site-packages (0.23.0)\n",
      "Requirement already satisfied: networkx in c:\\programy\\anaconda\\lib\\site-packages (2.1)\n",
      "Requirement already satisfied: pytz>=2011k in c:\\programy\\anaconda\\lib\\site-packages (from pandas) (2018.4)\n",
      "Requirement already satisfied: python-dateutil>=2.5.0 in c:\\programy\\anaconda\\lib\\site-packages (from pandas) (2.7.3)\n",
      "Requirement already satisfied: decorator>=4.1.0 in c:\\programy\\anaconda\\lib\\site-packages (from networkx) (4.3.0)\n",
      "Requirement already satisfied: six>=1.5 in c:\\programy\\anaconda\\lib\\site-packages (from python-dateutil>=2.5.0->pandas) (1.11.0)\n"
     ]
    }
   ],
   "source": [
    "!pip install numpy pandas networkx"
   ]
  },
  {
   "cell_type": "code",
   "execution_count": 2,
   "metadata": {},
   "outputs": [],
   "source": [
    "import numpy as np\n",
    "import pandas as pd\n",
    "import networkx as nx\n",
    "import matplotlib.pyplot as plt"
   ]
  },
  {
   "cell_type": "code",
   "execution_count": 3,
   "metadata": {},
   "outputs": [],
   "source": [
    "def viterbi(obs, model):\n",
    "    states = model.states\n",
    "    start_p = model.Pstart\n",
    "    trans_p = model.Ptransition\n",
    "    emit_p = model.Pemission\n",
    "    V = [{}]\n",
    "    for st in states['states'].values:\n",
    "        V[0][st] = {\n",
    "            \"prob\": start_p.loc[st, 'probability'] * emit_p.loc[st, obs[0]],\n",
    "            \"prev\": None,\n",
    "        }\n",
    "    for t in range(1, len(obs)):\n",
    "        V.append({})\n",
    "        for st in states['states'].values:\n",
    "            max_tr_prob = max(\n",
    "                V[t-1][prev_st][\"prob\"] * trans_p.loc[prev_st, st]\n",
    "                for prev_st in states['states'].values\n",
    "            )\n",
    "            for prev_st in states['states'].values:\n",
    "                if V[t-1][prev_st][\"prob\"] * trans_p.loc[prev_st, st] == max_tr_prob:\n",
    "                    max_prob = max_tr_prob * emit_p.loc[st, obs[t]]\n",
    "                    V[t][st] = {\"prob\": max_prob, \"prev\": prev_st}\n",
    "                    break\n",
    "    display(pd.DataFrame(V).applymap(lambda x: x['prob']).T)\n",
    "    \n",
    "    opt = []\n",
    "    max_prob = max(value[\"prob\"] for value in V[-1].values())\n",
    "    previous = None\n",
    "    for st, data in V[-1].items():\n",
    "        if data[\"prob\"] == max_prob:\n",
    "            opt.append(st)\n",
    "            previous = st\n",
    "            break\n",
    "    for t in range(len(V) - 2, -1, -1):\n",
    "        opt.insert(0, V[t + 1][previous][\"prev\"])\n",
    "        previous = V[t + 1][previous][\"prev\"]\n",
    "    display(pd.DataFrame(opt, columns=['State sequence']).T)\n",
    "    print('Max probability: {}'.format(max_prob))"
   ]
  },
  {
   "cell_type": "markdown",
   "metadata": {},
   "source": [
    "Exercise 1\n",
    "============\n",
    "\n",
    "**Prepare representation of HMM: (apropriate classes representing states, observations, emission probabilities, transition probabilities).**"
   ]
  },
  {
   "cell_type": "code",
   "execution_count": 4,
   "metadata": {},
   "outputs": [],
   "source": [
    "class HMM:\n",
    "    observations = pd.DataFrame()\n",
    "    states = pd.DataFrame()\n",
    "    Pstart = pd.DataFrame()\n",
    "    Ptransition = pd.DataFrame()\n",
    "    Pemission = pd.DataFrame()\n",
    "    \n",
    "    def display(self):\n",
    "        display(self.observations)\n",
    "        display(self.states)\n",
    "        display(self.Pstart)\n",
    "        display(self.Ptransition)\n",
    "        display(self.Pemission)"
   ]
  },
  {
   "cell_type": "code",
   "execution_count": 5,
   "metadata": {},
   "outputs": [
    {
     "data": {
      "text/html": [
       "<div>\n",
       "<style scoped>\n",
       "    .dataframe tbody tr th:only-of-type {\n",
       "        vertical-align: middle;\n",
       "    }\n",
       "\n",
       "    .dataframe tbody tr th {\n",
       "        vertical-align: top;\n",
       "    }\n",
       "\n",
       "    .dataframe thead th {\n",
       "        text-align: right;\n",
       "    }\n",
       "</style>\n",
       "<table border=\"1\" class=\"dataframe\">\n",
       "  <thead>\n",
       "    <tr style=\"text-align: right;\">\n",
       "      <th></th>\n",
       "      <th>observations</th>\n",
       "    </tr>\n",
       "  </thead>\n",
       "  <tbody>\n",
       "    <tr>\n",
       "      <th>0</th>\n",
       "      <td>sleeping</td>\n",
       "    </tr>\n",
       "    <tr>\n",
       "      <th>1</th>\n",
       "      <td>eating</td>\n",
       "    </tr>\n",
       "    <tr>\n",
       "      <th>2</th>\n",
       "      <td>pooping</td>\n",
       "    </tr>\n",
       "  </tbody>\n",
       "</table>\n",
       "</div>"
      ],
      "text/plain": [
       "  observations\n",
       "0     sleeping\n",
       "1       eating\n",
       "2      pooping"
      ]
     },
     "metadata": {},
     "output_type": "display_data"
    },
    {
     "data": {
      "text/html": [
       "<div>\n",
       "<style scoped>\n",
       "    .dataframe tbody tr th:only-of-type {\n",
       "        vertical-align: middle;\n",
       "    }\n",
       "\n",
       "    .dataframe tbody tr th {\n",
       "        vertical-align: top;\n",
       "    }\n",
       "\n",
       "    .dataframe thead th {\n",
       "        text-align: right;\n",
       "    }\n",
       "</style>\n",
       "<table border=\"1\" class=\"dataframe\">\n",
       "  <thead>\n",
       "    <tr style=\"text-align: right;\">\n",
       "      <th></th>\n",
       "      <th>states</th>\n",
       "    </tr>\n",
       "  </thead>\n",
       "  <tbody>\n",
       "    <tr>\n",
       "      <th>0</th>\n",
       "      <td>Healthy</td>\n",
       "    </tr>\n",
       "    <tr>\n",
       "      <th>1</th>\n",
       "      <td>Sick</td>\n",
       "    </tr>\n",
       "  </tbody>\n",
       "</table>\n",
       "</div>"
      ],
      "text/plain": [
       "    states\n",
       "0  Healthy\n",
       "1     Sick"
      ]
     },
     "metadata": {},
     "output_type": "display_data"
    },
    {
     "data": {
      "text/html": [
       "<div>\n",
       "<style scoped>\n",
       "    .dataframe tbody tr th:only-of-type {\n",
       "        vertical-align: middle;\n",
       "    }\n",
       "\n",
       "    .dataframe tbody tr th {\n",
       "        vertical-align: top;\n",
       "    }\n",
       "\n",
       "    .dataframe thead th {\n",
       "        text-align: right;\n",
       "    }\n",
       "</style>\n",
       "<table border=\"1\" class=\"dataframe\">\n",
       "  <thead>\n",
       "    <tr style=\"text-align: right;\">\n",
       "      <th></th>\n",
       "      <th>probability</th>\n",
       "    </tr>\n",
       "  </thead>\n",
       "  <tbody>\n",
       "    <tr>\n",
       "      <th>Healthy</th>\n",
       "      <td>0.75</td>\n",
       "    </tr>\n",
       "    <tr>\n",
       "      <th>Sick</th>\n",
       "      <td>0.25</td>\n",
       "    </tr>\n",
       "  </tbody>\n",
       "</table>\n",
       "</div>"
      ],
      "text/plain": [
       "         probability\n",
       "Healthy         0.75\n",
       "Sick            0.25"
      ]
     },
     "metadata": {},
     "output_type": "display_data"
    },
    {
     "data": {
      "text/html": [
       "<div>\n",
       "<style scoped>\n",
       "    .dataframe tbody tr th:only-of-type {\n",
       "        vertical-align: middle;\n",
       "    }\n",
       "\n",
       "    .dataframe tbody tr th {\n",
       "        vertical-align: top;\n",
       "    }\n",
       "\n",
       "    .dataframe thead th {\n",
       "        text-align: right;\n",
       "    }\n",
       "</style>\n",
       "<table border=\"1\" class=\"dataframe\">\n",
       "  <thead>\n",
       "    <tr style=\"text-align: right;\">\n",
       "      <th></th>\n",
       "      <th>Healthy</th>\n",
       "      <th>Sick</th>\n",
       "    </tr>\n",
       "  </thead>\n",
       "  <tbody>\n",
       "    <tr>\n",
       "      <th>Healthy</th>\n",
       "      <td>0.8</td>\n",
       "      <td>0.2</td>\n",
       "    </tr>\n",
       "    <tr>\n",
       "      <th>Sick</th>\n",
       "      <td>0.4</td>\n",
       "      <td>0.6</td>\n",
       "    </tr>\n",
       "  </tbody>\n",
       "</table>\n",
       "</div>"
      ],
      "text/plain": [
       "         Healthy  Sick\n",
       "Healthy      0.8   0.2\n",
       "Sick         0.4   0.6"
      ]
     },
     "metadata": {},
     "output_type": "display_data"
    },
    {
     "data": {
      "text/html": [
       "<div>\n",
       "<style scoped>\n",
       "    .dataframe tbody tr th:only-of-type {\n",
       "        vertical-align: middle;\n",
       "    }\n",
       "\n",
       "    .dataframe tbody tr th {\n",
       "        vertical-align: top;\n",
       "    }\n",
       "\n",
       "    .dataframe thead th {\n",
       "        text-align: right;\n",
       "    }\n",
       "</style>\n",
       "<table border=\"1\" class=\"dataframe\">\n",
       "  <thead>\n",
       "    <tr style=\"text-align: right;\">\n",
       "      <th></th>\n",
       "      <th>sleeping</th>\n",
       "      <th>eating</th>\n",
       "      <th>pooping</th>\n",
       "    </tr>\n",
       "  </thead>\n",
       "  <tbody>\n",
       "    <tr>\n",
       "      <th>Healthy</th>\n",
       "      <td>0.5</td>\n",
       "      <td>0.4</td>\n",
       "      <td>0.1</td>\n",
       "    </tr>\n",
       "    <tr>\n",
       "      <th>Sick</th>\n",
       "      <td>0.1</td>\n",
       "      <td>0.3</td>\n",
       "      <td>0.6</td>\n",
       "    </tr>\n",
       "  </tbody>\n",
       "</table>\n",
       "</div>"
      ],
      "text/plain": [
       "         sleeping  eating  pooping\n",
       "Healthy       0.5     0.4      0.1\n",
       "Sick          0.1     0.3      0.6"
      ]
     },
     "metadata": {},
     "output_type": "display_data"
    }
   ],
   "source": [
    "hmm = HMM()\n",
    "hmm.observations = pd.DataFrame(['sleeping', 'eating', 'pooping'], columns=['observations'])\n",
    "hmm.states = pd.DataFrame(['Healthy', 'Sick'], columns=['states'])\n",
    "\n",
    "hmm.Pstart = pd.DataFrame([\n",
    "    pd.Series({ 'probability': 0.75 }, name='Healthy'),\n",
    "    pd.Series({ 'probability': 0.25 }, name='Sick'),\n",
    "], columns=['probability'])\n",
    "\n",
    "hmm.Ptransition = pd.DataFrame([\n",
    "    pd.Series({'Healthy': 0.8, 'Sick': 0.2}, name='Healthy'),\n",
    "    pd.Series({'Healthy': 0.4, 'Sick': 0.6}, name='Sick')\n",
    "], columns = hmm.states['states'].tolist())\n",
    "\n",
    "hmm.Pemission = pd.DataFrame([\n",
    "    pd.Series({'sleeping': 0.5, 'eating': 0.4, 'pooping': 0.1}, name='Healthy'),\n",
    "    pd.Series({'sleeping': 0.1, 'eating': 0.3, 'pooping': 0.6}, name='Sick')\n",
    "], columns = hmm.observations['observations'].tolist())\n",
    "hmm.display()"
   ]
  },
  {
   "cell_type": "markdown",
   "metadata": {},
   "source": [
    "Exercise 2\n",
    "============\n",
    "\n",
    "**Create one simple HMM model.**"
   ]
  },
  {
   "cell_type": "code",
   "execution_count": 6,
   "metadata": {},
   "outputs": [],
   "source": [
    "def getMarkovEdges(*Qs):\n",
    "    edges = []\n",
    "    for Q in Qs:\n",
    "        for col in Q.columns:\n",
    "            for idx in Q.index:\n",
    "                edges += [(idx, col, Q.loc[idx,col])]\n",
    "    return edges"
   ]
  },
  {
   "cell_type": "code",
   "execution_count": 7,
   "metadata": {},
   "outputs": [],
   "source": [
    "G = nx.MultiDiGraph()\n",
    "\n",
    "G.add_nodes_from(['Start'], Type='Start')\n",
    "G.add_nodes_from(hmm.states['states'], Type='States')\n",
    "G.add_nodes_from(hmm.observations['observations'], Type='Observations')\n",
    "\n",
    "\n",
    "\n",
    "for u, v, w in getMarkovEdges(hmm.Pemission):\n",
    "    G.add_edge(u, v, weight=w, label=w, Type='Emission')\n",
    "\n",
    "edges = [('Start', idx, hmm.Pstart.loc[idx, 'probability']) for idx in hmm.Pstart.index]\n",
    "for u, v, w in (edges + getMarkovEdges(hmm.Ptransition)):\n",
    "    G.add_edge(u, v, weight=w, label=w, Type='Normal')\n",
    "\n",
    "EdgeEmission = [n for (n, ty) in nx.get_edge_attributes(G,'Type').items() if ty == 'Emission']    \n",
    "EdgeNormal = [n for (n, ty) in nx.get_edge_attributes(G,'Type').items() if ty == 'Normal']"
   ]
  },
  {
   "cell_type": "markdown",
   "metadata": {},
   "source": [
    "Exercise 3\n",
    "============\n",
    "\n",
    "**Visualize created model (picture of graph, differend vertices shapes for hidden states, different for observations etc.).**"
   ]
  },
  {
   "cell_type": "code",
   "execution_count": 8,
   "metadata": {},
   "outputs": [
    {
     "data": {
      "image/png": "[encoded data removed]",
      "text/plain": [
       "<Figure size 1080x576 with 1 Axes>"
      ]
     },
     "metadata": {},
     "output_type": "display_data"
    }
   ],
   "source": [
    "plt.figure(figsize=(15, 8))\n",
    "plt.axis('off')\n",
    "\n",
    "NodeStart = [n for (n,ty) in nx.get_node_attributes(G,'Type').items() if ty == 'Start']\n",
    "NodeStates = [n for (n,ty) in nx.get_node_attributes(G,'Type').items() if ty == 'States']\n",
    "NodeObservations = [n for (n,ty) in nx.get_node_attributes(G,'Type').items() if ty == 'Observations']\n",
    "\n",
    "pos = nx.circular_layout(G)\n",
    "nx.draw_networkx(G, pos, font_color='w')\n",
    "nx.draw_networkx_nodes(G, pos, node_size=3000, node_color='g', node_shape='p', nodelist=NodeStart)\n",
    "nx.draw_networkx_nodes(G, pos, node_size=3000, node_shape='s', node_color='#9999cc', nodelist=NodeStates)\n",
    "nx.draw_networkx_nodes(G, pos, node_size=3000, node_color='#000099', nodelist=NodeObservations)\n",
    "\n",
    "nx.draw_networkx_edges(G, pos, edgelist=EdgeEmission, edge_color='b', width=1)\n",
    "\n",
    "emit_edge_labels = {(n1,n2):d['label'] for n1,n2,d in G.edges(data=True)}\n",
    "nx.draw_networkx_edge_labels(G, pos, label_pos=0.25, edge_labels=emit_edge_labels, arrowstyle='->', arrowsize=12)\n",
    "None"
   ]
  },
  {
   "cell_type": "markdown",
   "metadata": {},
   "source": [
    "Exercise 4\n",
    "============\n",
    "\n",
    "**Implement method that will compute most probable state sequence for given observed sequence (Viterbi algorithm).**"
   ]
  },
  {
   "cell_type": "code",
   "execution_count": 9,
   "metadata": {},
   "outputs": [
    {
     "data": {
      "text/html": [
       "<div>\n",
       "<style scoped>\n",
       "    .dataframe tbody tr th:only-of-type {\n",
       "        vertical-align: middle;\n",
       "    }\n",
       "\n",
       "    .dataframe tbody tr th {\n",
       "        vertical-align: top;\n",
       "    }\n",
       "\n",
       "    .dataframe thead th {\n",
       "        text-align: right;\n",
       "    }\n",
       "</style>\n",
       "<table border=\"1\" class=\"dataframe\">\n",
       "  <thead>\n",
       "    <tr style=\"text-align: right;\">\n",
       "      <th></th>\n",
       "      <th>0</th>\n",
       "      <th>1</th>\n",
       "      <th>2</th>\n",
       "      <th>3</th>\n",
       "      <th>4</th>\n",
       "      <th>5</th>\n",
       "      <th>6</th>\n",
       "    </tr>\n",
       "  </thead>\n",
       "  <tbody>\n",
       "    <tr>\n",
       "      <th>Healthy</th>\n",
       "      <td>0.300</td>\n",
       "      <td>0.096</td>\n",
       "      <td>0.03840</td>\n",
       "      <td>0.015360</td>\n",
       "      <td>0.001229</td>\n",
       "      <td>0.000098</td>\n",
       "      <td>0.000106</td>\n",
       "    </tr>\n",
       "    <tr>\n",
       "      <th>Sick</th>\n",
       "      <td>0.075</td>\n",
       "      <td>0.018</td>\n",
       "      <td>0.00192</td>\n",
       "      <td>0.000768</td>\n",
       "      <td>0.001843</td>\n",
       "      <td>0.000664</td>\n",
       "      <td>0.000119</td>\n",
       "    </tr>\n",
       "  </tbody>\n",
       "</table>\n",
       "</div>"
      ],
      "text/plain": [
       "             0      1        2         3         4         5         6\n",
       "Healthy  0.300  0.096  0.03840  0.015360  0.001229  0.000098  0.000106\n",
       "Sick     0.075  0.018  0.00192  0.000768  0.001843  0.000664  0.000119"
      ]
     },
     "metadata": {},
     "output_type": "display_data"
    },
    {
     "data": {
      "text/html": [
       "<div>\n",
       "<style scoped>\n",
       "    .dataframe tbody tr th:only-of-type {\n",
       "        vertical-align: middle;\n",
       "    }\n",
       "\n",
       "    .dataframe tbody tr th {\n",
       "        vertical-align: top;\n",
       "    }\n",
       "\n",
       "    .dataframe thead th {\n",
       "        text-align: right;\n",
       "    }\n",
       "</style>\n",
       "<table border=\"1\" class=\"dataframe\">\n",
       "  <thead>\n",
       "    <tr style=\"text-align: right;\">\n",
       "      <th></th>\n",
       "      <th>0</th>\n",
       "      <th>1</th>\n",
       "      <th>2</th>\n",
       "      <th>3</th>\n",
       "      <th>4</th>\n",
       "      <th>5</th>\n",
       "      <th>6</th>\n",
       "    </tr>\n",
       "  </thead>\n",
       "  <tbody>\n",
       "    <tr>\n",
       "      <th>State sequence</th>\n",
       "      <td>Healthy</td>\n",
       "      <td>Healthy</td>\n",
       "      <td>Healthy</td>\n",
       "      <td>Healthy</td>\n",
       "      <td>Sick</td>\n",
       "      <td>Sick</td>\n",
       "      <td>Sick</td>\n",
       "    </tr>\n",
       "  </tbody>\n",
       "</table>\n",
       "</div>"
      ],
      "text/plain": [
       "                      0        1        2        3     4     5     6\n",
       "State sequence  Healthy  Healthy  Healthy  Healthy  Sick  Sick  Sick"
      ]
     },
     "metadata": {},
     "output_type": "display_data"
    },
    {
     "name": "stdout",
     "output_type": "stream",
     "text": [
      "Max probability: 0.00011943936000000004\n"
     ]
    }
   ],
   "source": [
    "seq = ('eating', 'eating', 'sleeping', 'sleeping', 'pooping', 'pooping', 'eating')\n",
    "viterbi(seq, hmm)"
   ]
  }
 ],
 "metadata": {
  "kernelspec": {
   "display_name": "Python 3",
   "language": "python",
   "name": "python3"
  },
  "language_info": {
   "codemirror_mode": {
    "name": "ipython",
    "version": 3
   },
   "file_extension": ".py",
   "mimetype": "text/x-python",
   "name": "python",
   "nbconvert_exporter": "python",
   "pygments_lexer": "ipython3",
   "version": "3.5.5"
  }
 },
 "nbformat": 4,
 "nbformat_minor": 2
}
