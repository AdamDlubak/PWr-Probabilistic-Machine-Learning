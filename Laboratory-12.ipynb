{
 "cells": [
  {
   "cell_type": "markdown",
   "metadata": {},
   "source": [
    "# List 12\n",
    "## Hidden Markov models (HMM) - learning\n",
    "\n",
    "### Knowledge & Skills:\n",
    "\n",
    " - HMM\n",
    " - Viterbi algorithm\n",
    " \n",
    "### Remarks\n",
    " - Do not repeat yourself, check if the implementation of one task is also the implementation of others,\n",
    " - Do not copy your code, create functions and reuse them\n",
    " - Use env that will help you solve problems not create new ones in given task\n",
    " - [YouTube](https://www.youtube.com/watch?v=7tN5Ngf4iJE)\n",
    " - [PDF 1](http://www.cs.columbia.edu/4761/notes07/chapter4.3-HMM.pdf)\n",
    " - [PDF 2](https://ocw.mit.edu/courses/electrical-engineering-and-computer-science/6-047-computational-biology-fall-2015/lectures_slides/MIT6_047F15_Lecture05.pdf)\n",
    " - [PDF 3 - NLP](http://www.phontron.com/slides/nlp-programming-en-04-hmm.pdf)"
   ]
  },
  {
   "cell_type": "code",
   "execution_count": 1,
   "metadata": {},
   "outputs": [
    {
     "name": "stdout",
     "output_type": "stream",
     "text": [
      "Requirement already satisfied: numpy in c:\\programy\\anaconda\\lib\\site-packages (1.14.3)\n",
      "Requirement already satisfied: pandas in c:\\programy\\anaconda\\lib\\site-packages (0.23.0)\n",
      "Requirement already satisfied: networkx in c:\\programy\\anaconda\\lib\\site-packages (2.1)\n",
      "Requirement already satisfied: pytz>=2011k in c:\\programy\\anaconda\\lib\\site-packages (from pandas) (2018.4)\n",
      "Requirement already satisfied: python-dateutil>=2.5.0 in c:\\programy\\anaconda\\lib\\site-packages (from pandas) (2.7.3)\n",
      "Requirement already satisfied: decorator>=4.1.0 in c:\\programy\\anaconda\\lib\\site-packages (from networkx) (4.3.0)\n",
      "Requirement already satisfied: six>=1.5 in c:\\programy\\anaconda\\lib\\site-packages (from python-dateutil>=2.5.0->pandas) (1.11.0)\n"
     ]
    }
   ],
   "source": [
    "!pip install numpy pandas networkx"
   ]
  },
  {
   "cell_type": "code",
   "execution_count": 2,
   "metadata": {},
   "outputs": [],
   "source": [
    "import numpy as np\n",
    "import pandas as pd\n",
    "import networkx as nx\n",
    "import matplotlib.pyplot as plt\n",
    "import itertools\n",
    "import math\n",
    "import random\n",
    "from copy import deepcopy\n",
    "from sklearn import preprocessing\n",
    "%matplotlib inline"
   ]
  },
  {
   "cell_type": "code",
   "execution_count": 3,
   "metadata": {},
   "outputs": [],
   "source": [
    "class HMM:\n",
    "    observations = pd.DataFrame()\n",
    "    states = pd.DataFrame()\n",
    "    Ptransition = pd.DataFrame()\n",
    "    Pemission = pd.DataFrame()\n",
    "    \n",
    "    def normalize(self):\n",
    "        scaler = preprocessing.MinMaxScaler(feature_range=(0, 1))\n",
    "        x = self.Ptransition.values\n",
    "        x_scaled = scaler.fit_transform(x)\n",
    "        self.Ptransition = pd.DataFrame(scaler.fit_transform(self.Ptransition.values),\n",
    "                                        columns=self.Ptransition.columns,\n",
    "                                        index=self.Ptransition.index)\n",
    "        self.Pemission = pd.DataFrame(scaler.fit_transform(self.Pemission.values),\n",
    "                                      columns=self.Pemission.columns,\n",
    "                                      index=self.Pemission.index)\n",
    "    \n",
    "    def display(self):\n",
    "        display(self.Ptransition)\n",
    "        display(self.Pemission)"
   ]
  },
  {
   "cell_type": "code",
   "execution_count": 4,
   "metadata": {},
   "outputs": [],
   "source": [
    "def getMarkovEdges(*Qs):\n",
    "    edges = []\n",
    "    for Q in Qs:\n",
    "        for col in Q.columns:\n",
    "            for idx in Q.index:\n",
    "                edges += [(idx, col, Q.loc[idx,col])]\n",
    "    return edges"
   ]
  },
  {
   "cell_type": "code",
   "execution_count": 5,
   "metadata": {},
   "outputs": [],
   "source": [
    "def draw(hmm):\n",
    "    G = nx.MultiDiGraph()\n",
    "\n",
    "    G.add_nodes_from(['Start'], Type='Start')\n",
    "    G.add_nodes_from(hmm.states['states'], Type='States')\n",
    "    G.add_nodes_from(hmm.observations['observations'], Type='Observations')\n",
    "\n",
    "    NodeStart = [n for (n,ty) in nx.get_node_attributes(G,'Type').items() if ty == 'Start']\n",
    "    NodeStates = [n for (n,ty) in nx.get_node_attributes(G,'Type').items() if ty == 'States']\n",
    "    NodeObservations = [n for (n,ty) in nx.get_node_attributes(G,'Type').items() if ty == 'Observations']\n",
    "\n",
    "    for s, t, w in getMarkovEdges(hmm.Pemission):\n",
    "        G.add_edge(s, t, weight=w, label='{0:.3f}'.format(w), Type='Emission')\n",
    "    EdgeEmission = [n for (n, ty) in nx.get_edge_attributes(G,'Type').items() if ty == 'Emission']\n",
    "\n",
    "    edges = [('Start', idx, hmm.Ptransition.loc['Start', idx]) for idx in hmm.states['states'].values]\n",
    "    for s, t, w in (edges + getMarkovEdges(hmm.Ptransition)):\n",
    "        G.add_edge(s, t, weight=w, label='{0:.3f}'.format(w), Type='Normal')\n",
    "    EdgeNormal = [n for (n, ty) in nx.get_edge_attributes(G,'Type').items() if ty == 'Normal']\n",
    "\n",
    "    plt.figure(figsize=(15, 8))\n",
    "    plt.axis('off')\n",
    "    pos = nx.circular_layout(G)\n",
    "    nx.draw_networkx(G, pos, font_color='w')\n",
    "    nx.draw_networkx_nodes(G, pos, node_size=3000, node_color='g', node_shape='p', nodelist=NodeStart)\n",
    "    nx.draw_networkx_nodes(G, pos, node_size=3000, node_shape='s', node_color='#9999cc', nodelist=NodeStates)\n",
    "    nx.draw_networkx_nodes(G, pos, node_size=3000, node_color='#000099', nodelist=NodeObservations)\n",
    "\n",
    "    nx.draw_networkx_edges(G, pos, edgelist=EdgeEmission, edge_color='b', width=1)\n",
    "\n",
    "    emit_edge_labels = {(n1,n2):d['label'] for n1,n2,d in G.edges(data=True)}\n",
    "    nx.draw_networkx_edge_labels(G, pos, label_pos=0.25,\n",
    "                                 edge_labels=emit_edge_labels,\n",
    "                                 arrowstyle='->', arrowsize=12)"
   ]
  },
  {
   "cell_type": "code",
   "execution_count": 6,
   "metadata": {},
   "outputs": [],
   "source": [
    "def getOccurances(model, sequences, paths):\n",
    "    transitionsPairs = [\n",
    "        (stateA, stateB, 0) \n",
    "        for stateA, stateB\n",
    "        in itertools.product(model.states['states'].values, model.states['states'].values)\n",
    "    ]\n",
    "    transitionsPairs += [('Start', state, 0) for state in model.states['states'].values]\n",
    "    for path in paths:\n",
    "        transitionsPairs += [(path[i], path[i + 1], 1) for i in range(len(path) - 1)]\n",
    "        transitionsPairs += [('Start', path[0], 1)]\n",
    "    transitionsPairs = pd.DataFrame(transitionsPairs, columns=['from', 'to', 'n'])\n",
    "    transitions = transitionsPairs.groupby(['from', 'to']).sum()\n",
    "    \n",
    "    emissionsPairs = [\n",
    "        (state, emission, 0) \n",
    "        for state, emission\n",
    "        in itertools.product(model.states['states'].values, model.observations['observations'].values)\n",
    "    ]\n",
    "    for path, sequence in zip(paths, sequences):\n",
    "        emissionsPairs += [(state, emission, 1) for state, emission in zip(path, sequence)]\n",
    "    emissionsPairs = pd.DataFrame(emissionsPairs, columns=['state', 'observation', 'n'])\n",
    "    emissions = emissionsPairs.groupby(['state', 'observation']).sum()\n",
    "\n",
    "    return transitions, emissions\n",
    "\n",
    "def learn(source, sequences, epsilon=0.1):\n",
    "    model = deepcopy(source)\n",
    "    \n",
    "    transitions, emissions = getOccurances(model, [], [])\n",
    "    delta = epsilon + 1\n",
    "    \n",
    "    while(delta > epsilon):\n",
    "        paths = np.array([viterbi(s, model) for s in sequences])\n",
    "        t, e = getOccurances(model, sequences, paths)\n",
    "        transitions = transitions.add(t)\n",
    "        emissions = emissions.add(e)\n",
    "        delta = 0\n",
    "        for stateA, stateB in itertools.product(*transitions.index.levels):\n",
    "            n = transitions.loc[stateA, stateB].get('n')\n",
    "            n = max(0.01, min(transitions.sum().get('n') - 0.01, n))\n",
    "            newValue = math.log2(n)\n",
    "            delta = max(delta, abs(model.Ptransition.loc[stateA, stateB] - newValue))\n",
    "            model.Ptransition.loc[stateA, stateB] = newValue\n",
    "\n",
    "        for state, emission in itertools.product(*emissions.index.levels):\n",
    "            n = emissions.loc[state, emission].get('n')\n",
    "            n = max(0.01, min(emissions.sum().get('n') - 0.01, n))\n",
    "            newValue = math.log2(n)\n",
    "            delta = max(delta, abs(model.Pemission.loc[state, emission] - newValue))\n",
    "            model.Pemission.loc[state, emission] = newValue\n",
    "    model.display()\n",
    "    return model"
   ]
  },
  {
   "cell_type": "markdown",
   "metadata": {},
   "source": [
    "Exercise 1\n",
    "============\n",
    "\n",
    "**Use already implemented HMM representation.**"
   ]
  },
  {
   "cell_type": "code",
   "execution_count": 7,
   "metadata": {},
   "outputs": [
    {
     "data": {
      "text/html": [
       "<div>\n",
       "<style scoped>\n",
       "    .dataframe tbody tr th:only-of-type {\n",
       "        vertical-align: middle;\n",
       "    }\n",
       "\n",
       "    .dataframe tbody tr th {\n",
       "        vertical-align: top;\n",
       "    }\n",
       "\n",
       "    .dataframe thead th {\n",
       "        text-align: right;\n",
       "    }\n",
       "</style>\n",
       "<table border=\"1\" class=\"dataframe\">\n",
       "  <thead>\n",
       "    <tr style=\"text-align: right;\">\n",
       "      <th></th>\n",
       "      <th>Healthy</th>\n",
       "      <th>Sick</th>\n",
       "    </tr>\n",
       "  </thead>\n",
       "  <tbody>\n",
       "    <tr>\n",
       "      <th>Start</th>\n",
       "      <td>0.75</td>\n",
       "      <td>0.25</td>\n",
       "    </tr>\n",
       "    <tr>\n",
       "      <th>Healthy</th>\n",
       "      <td>0.80</td>\n",
       "      <td>0.20</td>\n",
       "    </tr>\n",
       "    <tr>\n",
       "      <th>Sick</th>\n",
       "      <td>0.40</td>\n",
       "      <td>0.60</td>\n",
       "    </tr>\n",
       "  </tbody>\n",
       "</table>\n",
       "</div>"
      ],
      "text/plain": [
       "         Healthy  Sick\n",
       "Start       0.75  0.25\n",
       "Healthy     0.80  0.20\n",
       "Sick        0.40  0.60"
      ]
     },
     "metadata": {},
     "output_type": "display_data"
    },
    {
     "data": {
      "text/html": [
       "<div>\n",
       "<style scoped>\n",
       "    .dataframe tbody tr th:only-of-type {\n",
       "        vertical-align: middle;\n",
       "    }\n",
       "\n",
       "    .dataframe tbody tr th {\n",
       "        vertical-align: top;\n",
       "    }\n",
       "\n",
       "    .dataframe thead th {\n",
       "        text-align: right;\n",
       "    }\n",
       "</style>\n",
       "<table border=\"1\" class=\"dataframe\">\n",
       "  <thead>\n",
       "    <tr style=\"text-align: right;\">\n",
       "      <th></th>\n",
       "      <th>sleeping</th>\n",
       "      <th>eating</th>\n",
       "      <th>pooping</th>\n",
       "    </tr>\n",
       "  </thead>\n",
       "  <tbody>\n",
       "    <tr>\n",
       "      <th>Healthy</th>\n",
       "      <td>0.5</td>\n",
       "      <td>0.4</td>\n",
       "      <td>0.1</td>\n",
       "    </tr>\n",
       "    <tr>\n",
       "      <th>Sick</th>\n",
       "      <td>0.1</td>\n",
       "      <td>0.3</td>\n",
       "      <td>0.6</td>\n",
       "    </tr>\n",
       "  </tbody>\n",
       "</table>\n",
       "</div>"
      ],
      "text/plain": [
       "         sleeping  eating  pooping\n",
       "Healthy       0.5     0.4      0.1\n",
       "Sick          0.1     0.3      0.6"
      ]
     },
     "metadata": {},
     "output_type": "display_data"
    }
   ],
   "source": [
    "model = HMM()\n",
    "model.observations = pd.DataFrame(['sleeping', 'eating', 'pooping'], columns=['observations'])\n",
    "model.states = pd.DataFrame(['Healthy', 'Sick'], columns=['states'])\n",
    "\n",
    "model.Ptransition = pd.DataFrame([\n",
    "    pd.Series({'Healthy': 0.75, 'Sick': 0.25}, name='Start'),\n",
    "    pd.Series({'Healthy': 0.8, 'Sick': 0.2}, name='Healthy'),\n",
    "    pd.Series({'Healthy': 0.4, 'Sick': 0.6}, name='Sick'),\n",
    "], columns=model.states['states'].tolist())\n",
    "\n",
    "model.Pemission = pd.DataFrame([\n",
    "    pd.Series({'sleeping': 0.5, 'eating': 0.4, 'pooping': 0.1}, name='Healthy'),\n",
    "    pd.Series({'sleeping': 0.1, 'eating': 0.3, 'pooping': 0.6}, name='Sick'),\n",
    "], columns=model.observations['observations'].tolist())\n",
    "\n",
    "model.display()"
   ]
  },
  {
   "cell_type": "code",
   "execution_count": 8,
   "metadata": {},
   "outputs": [
    {
     "data": {
      "image/png": "[encoded data removed]",
      "text/plain": [
       "<Figure size 1080x576 with 1 Axes>"
      ]
     },
     "metadata": {},
     "output_type": "display_data"
    }
   ],
   "source": [
    "draw(model)"
   ]
  },
  {
   "cell_type": "markdown",
   "metadata": {},
   "source": [
    "Exercise 2\n",
    "============\n",
    "\n",
    "**Use already implemented Viterbi algorithm.**"
   ]
  },
  {
   "cell_type": "code",
   "execution_count": 9,
   "metadata": {},
   "outputs": [],
   "source": [
    "def viterbi(obs, model, show=False):\n",
    "    states = model.states\n",
    "    trans_p = model.Ptransition\n",
    "    emit_p = model.Pemission\n",
    "    V = [{}]\n",
    "    for st in states['states'].values:\n",
    "        V[0][st] = {\n",
    "            \"prob\": trans_p.loc['Start', st] * emit_p.loc[st, obs[0]],\n",
    "            \"prev\": None,\n",
    "        }\n",
    "    for t in range(1, len(obs)):\n",
    "        V.append({})\n",
    "        for st in states['states'].values:\n",
    "            max_tr_prob = max(\n",
    "                V[t-1][prev_st][\"prob\"] * trans_p.loc[prev_st, st]\n",
    "                for prev_st in states['states'].values\n",
    "            )\n",
    "            for prev_st in states['states'].values:\n",
    "                if V[t-1][prev_st][\"prob\"] * trans_p.loc[prev_st, st] == max_tr_prob:\n",
    "                    max_prob = max_tr_prob * emit_p.loc[st, obs[t]]\n",
    "                    V[t][st] = {\"prob\": max_prob, \"prev\": prev_st}\n",
    "                    break\n",
    "    if show:\n",
    "        display(pd.DataFrame(V).applymap(lambda x: x['prob']).T)\n",
    "    \n",
    "    opt = []\n",
    "    max_prob = max(value[\"prob\"] for value in V[-1].values())\n",
    "    previous = None\n",
    "    for st, data in V[-1].items():\n",
    "        if data[\"prob\"] == max_prob:\n",
    "            opt.append(st)\n",
    "            previous = st\n",
    "            break\n",
    "    for t in range(len(V) - 2, -1, -1):\n",
    "        opt.insert(0, V[t + 1][previous][\"prev\"])\n",
    "        previous = V[t + 1][previous][\"prev\"]\n",
    "    if show:\n",
    "        display(pd.DataFrame(opt, columns=['State sequence']).T)\n",
    "        print('Max probability: {}'.format(max_prob))\n",
    "    return opt"
   ]
  },
  {
   "cell_type": "markdown",
   "metadata": {},
   "source": [
    "Exercise 3\n",
    "============\n",
    "\n",
    "**Prepare training data (sequences of symbols [AABBCC, ABCDE etc.], find existing dataset).**"
   ]
  },
  {
   "cell_type": "code",
   "execution_count": 10,
   "metadata": {},
   "outputs": [],
   "source": [
    "sequences = (\n",
    "    ('eating', 'eating', 'sleeping', 'sleeping', 'pooping', 'pooping'),\n",
    "    ('pooping', 'sleeping', 'sleeping', 'sleeping', 'pooping', 'eating'),\n",
    "    ('eating', 'eating', 'sleeping', 'pooping', 'pooping', 'eating'),\n",
    "    ('sleeping', 'eating', 'sleeping', 'sleeping', 'eating', 'pooping'),\n",
    "    ('pooping', 'eating', 'eating', 'sleeping', 'eating', 'sleeping'),\n",
    "    ('sleeping', 'sleeping', 'sleeping', 'pooping', 'eating', 'pooping'),\n",
    ")"
   ]
  },
  {
   "cell_type": "markdown",
   "metadata": {},
   "source": [
    "Exercise 4\n",
    "============\n",
    "\n",
    "**Implement Viterbi learning:**\n",
    "- iterate until changes > epsilon\n",
    "- compute Viterbi paths for given data\n",
    "- update transition/emission matrices according to frequencies from Viterbi paths"
   ]
  },
  {
   "cell_type": "code",
   "execution_count": 11,
   "metadata": {},
   "outputs": [
    {
     "data": {
      "text/html": [
       "<div>\n",
       "<style scoped>\n",
       "    .dataframe tbody tr th:only-of-type {\n",
       "        vertical-align: middle;\n",
       "    }\n",
       "\n",
       "    .dataframe tbody tr th {\n",
       "        vertical-align: top;\n",
       "    }\n",
       "\n",
       "    .dataframe thead th {\n",
       "        text-align: right;\n",
       "    }\n",
       "</style>\n",
       "<table border=\"1\" class=\"dataframe\">\n",
       "  <thead>\n",
       "    <tr style=\"text-align: right;\">\n",
       "      <th></th>\n",
       "      <th>Healthy</th>\n",
       "      <th>Sick</th>\n",
       "    </tr>\n",
       "  </thead>\n",
       "  <tbody>\n",
       "    <tr>\n",
       "      <th>Start</th>\n",
       "      <td>7.499846</td>\n",
       "      <td>2.321928</td>\n",
       "    </tr>\n",
       "    <tr>\n",
       "      <th>Healthy</th>\n",
       "      <td>9.821774</td>\n",
       "      <td>3.169925</td>\n",
       "    </tr>\n",
       "    <tr>\n",
       "      <th>Sick</th>\n",
       "      <td>3.321928</td>\n",
       "      <td>2.584963</td>\n",
       "    </tr>\n",
       "  </tbody>\n",
       "</table>\n",
       "</div>"
      ],
      "text/plain": [
       "          Healthy      Sick\n",
       "Start    7.499846  2.321928\n",
       "Healthy  9.821774  3.169925\n",
       "Sick     3.321928  2.584963"
      ]
     },
     "metadata": {},
     "output_type": "display_data"
    },
    {
     "data": {
      "text/html": [
       "<div>\n",
       "<style scoped>\n",
       "    .dataframe tbody tr th:only-of-type {\n",
       "        vertical-align: middle;\n",
       "    }\n",
       "\n",
       "    .dataframe tbody tr th {\n",
       "        vertical-align: top;\n",
       "    }\n",
       "\n",
       "    .dataframe thead th {\n",
       "        text-align: right;\n",
       "    }\n",
       "</style>\n",
       "<table border=\"1\" class=\"dataframe\">\n",
       "  <thead>\n",
       "    <tr style=\"text-align: right;\">\n",
       "      <th></th>\n",
       "      <th>sleeping</th>\n",
       "      <th>eating</th>\n",
       "      <th>pooping</th>\n",
       "    </tr>\n",
       "  </thead>\n",
       "  <tbody>\n",
       "    <tr>\n",
       "      <th>Healthy</th>\n",
       "      <td>8.738092</td>\n",
       "      <td>8.523562</td>\n",
       "      <td>8.233620</td>\n",
       "    </tr>\n",
       "    <tr>\n",
       "      <th>Sick</th>\n",
       "      <td>2.807355</td>\n",
       "      <td>2.000000</td>\n",
       "      <td>3.169925</td>\n",
       "    </tr>\n",
       "  </tbody>\n",
       "</table>\n",
       "</div>"
      ],
      "text/plain": [
       "         sleeping    eating   pooping\n",
       "Healthy  8.738092  8.523562  8.233620\n",
       "Sick     2.807355  2.000000  3.169925"
      ]
     },
     "metadata": {},
     "output_type": "display_data"
    },
    {
     "data": {
      "image/png": "[encoded data removed]",
      "text/plain": [
       "<Figure size 1080x576 with 1 Axes>"
      ]
     },
     "metadata": {},
     "output_type": "display_data"
    }
   ],
   "source": [
    "fittedModel = learn(model, sequences, 0.05)\n",
    "draw(fittedModel)"
   ]
  },
  {
   "cell_type": "markdown",
   "metadata": {},
   "source": [
    "Exercise 5\n",
    "============\n",
    "\n",
    "**Test trained model providing data with noise:**\n",
    "- for symbols randomly change symbols and check if hidden states are same\n",
    "- for existing data use train/test split"
   ]
  },
  {
   "cell_type": "code",
   "execution_count": 12,
   "metadata": {},
   "outputs": [
    {
     "name": "stdout",
     "output_type": "stream",
     "text": [
      "[['eating' 'eating' 'sleeping' 'sleeping' 'pooping' 'pooping']\n",
      " ['pooping' 'sleeping' 'sleeping' 'sleeping' 'pooping' 'eating']\n",
      " ['eating' 'eating' 'sleeping' 'pooping' 'pooping' 'eating']\n",
      " ['sleeping' 'eating' 'sleeping' 'sleeping' 'eating' 'pooping']\n",
      " ['pooping' 'eating' 'eating' 'sleeping' 'eating' 'sleeping']\n",
      " ['sleeping' 'sleeping' 'sleeping' 'pooping' 'eating' 'pooping']]\n",
      "--------------------------------------\n",
      "[['eating' 'eating' 'sleeping' 'sleeping' 'pooping' 'pooping']\n",
      " ['pooping' 'sleeping' 'sleeping' 'sleeping' 'pooping' 'eating']\n",
      " ['eating' 'eating' 'sleeping' 'pooping' 'pooping' 'eating']\n",
      " ['sleeping' 'eating' 'pooping' 'sleeping' 'eating' 'pooping']\n",
      " ['pooping' 'eating' 'eating' 'sleeping' 'eating' 'sleeping']\n",
      " ['sleeping' 'sleeping' 'sleeping' 'pooping' 'eating' 'pooping']]\n",
      "\n",
      "\n",
      "\n",
      "Model without Noise:\n"
     ]
    },
    {
     "data": {
      "text/html": [
       "<div>\n",
       "<style scoped>\n",
       "    .dataframe tbody tr th:only-of-type {\n",
       "        vertical-align: middle;\n",
       "    }\n",
       "\n",
       "    .dataframe tbody tr th {\n",
       "        vertical-align: top;\n",
       "    }\n",
       "\n",
       "    .dataframe thead th {\n",
       "        text-align: right;\n",
       "    }\n",
       "</style>\n",
       "<table border=\"1\" class=\"dataframe\">\n",
       "  <thead>\n",
       "    <tr style=\"text-align: right;\">\n",
       "      <th></th>\n",
       "      <th>Healthy</th>\n",
       "      <th>Sick</th>\n",
       "    </tr>\n",
       "  </thead>\n",
       "  <tbody>\n",
       "    <tr>\n",
       "      <th>Start</th>\n",
       "      <td>7.499846</td>\n",
       "      <td>2.321928</td>\n",
       "    </tr>\n",
       "    <tr>\n",
       "      <th>Healthy</th>\n",
       "      <td>9.821774</td>\n",
       "      <td>3.169925</td>\n",
       "    </tr>\n",
       "    <tr>\n",
       "      <th>Sick</th>\n",
       "      <td>3.321928</td>\n",
       "      <td>2.584963</td>\n",
       "    </tr>\n",
       "  </tbody>\n",
       "</table>\n",
       "</div>"
      ],
      "text/plain": [
       "          Healthy      Sick\n",
       "Start    7.499846  2.321928\n",
       "Healthy  9.821774  3.169925\n",
       "Sick     3.321928  2.584963"
      ]
     },
     "metadata": {},
     "output_type": "display_data"
    },
    {
     "data": {
      "text/html": [
       "<div>\n",
       "<style scoped>\n",
       "    .dataframe tbody tr th:only-of-type {\n",
       "        vertical-align: middle;\n",
       "    }\n",
       "\n",
       "    .dataframe tbody tr th {\n",
       "        vertical-align: top;\n",
       "    }\n",
       "\n",
       "    .dataframe thead th {\n",
       "        text-align: right;\n",
       "    }\n",
       "</style>\n",
       "<table border=\"1\" class=\"dataframe\">\n",
       "  <thead>\n",
       "    <tr style=\"text-align: right;\">\n",
       "      <th></th>\n",
       "      <th>sleeping</th>\n",
       "      <th>eating</th>\n",
       "      <th>pooping</th>\n",
       "    </tr>\n",
       "  </thead>\n",
       "  <tbody>\n",
       "    <tr>\n",
       "      <th>Healthy</th>\n",
       "      <td>8.738092</td>\n",
       "      <td>8.523562</td>\n",
       "      <td>8.233620</td>\n",
       "    </tr>\n",
       "    <tr>\n",
       "      <th>Sick</th>\n",
       "      <td>2.807355</td>\n",
       "      <td>2.000000</td>\n",
       "      <td>3.169925</td>\n",
       "    </tr>\n",
       "  </tbody>\n",
       "</table>\n",
       "</div>"
      ],
      "text/plain": [
       "         sleeping    eating   pooping\n",
       "Healthy  8.738092  8.523562  8.233620\n",
       "Sick     2.807355  2.000000  3.169925"
      ]
     },
     "metadata": {},
     "output_type": "display_data"
    },
    {
     "name": "stdout",
     "output_type": "stream",
     "text": [
      "Model with Noise:\n"
     ]
    },
    {
     "data": {
      "text/html": [
       "<div>\n",
       "<style scoped>\n",
       "    .dataframe tbody tr th:only-of-type {\n",
       "        vertical-align: middle;\n",
       "    }\n",
       "\n",
       "    .dataframe tbody tr th {\n",
       "        vertical-align: top;\n",
       "    }\n",
       "\n",
       "    .dataframe thead th {\n",
       "        text-align: right;\n",
       "    }\n",
       "</style>\n",
       "<table border=\"1\" class=\"dataframe\">\n",
       "  <thead>\n",
       "    <tr style=\"text-align: right;\">\n",
       "      <th></th>\n",
       "      <th>Healthy</th>\n",
       "      <th>Sick</th>\n",
       "    </tr>\n",
       "  </thead>\n",
       "  <tbody>\n",
       "    <tr>\n",
       "      <th>Start</th>\n",
       "      <td>7.499846</td>\n",
       "      <td>2.321928</td>\n",
       "    </tr>\n",
       "    <tr>\n",
       "      <th>Healthy</th>\n",
       "      <td>9.821774</td>\n",
       "      <td>3.169925</td>\n",
       "    </tr>\n",
       "    <tr>\n",
       "      <th>Sick</th>\n",
       "      <td>3.321928</td>\n",
       "      <td>2.584963</td>\n",
       "    </tr>\n",
       "  </tbody>\n",
       "</table>\n",
       "</div>"
      ],
      "text/plain": [
       "          Healthy      Sick\n",
       "Start    7.499846  2.321928\n",
       "Healthy  9.821774  3.169925\n",
       "Sick     3.321928  2.584963"
      ]
     },
     "metadata": {},
     "output_type": "display_data"
    },
    {
     "data": {
      "text/html": [
       "<div>\n",
       "<style scoped>\n",
       "    .dataframe tbody tr th:only-of-type {\n",
       "        vertical-align: middle;\n",
       "    }\n",
       "\n",
       "    .dataframe tbody tr th {\n",
       "        vertical-align: top;\n",
       "    }\n",
       "\n",
       "    .dataframe thead th {\n",
       "        text-align: right;\n",
       "    }\n",
       "</style>\n",
       "<table border=\"1\" class=\"dataframe\">\n",
       "  <thead>\n",
       "    <tr style=\"text-align: right;\">\n",
       "      <th></th>\n",
       "      <th>sleeping</th>\n",
       "      <th>eating</th>\n",
       "      <th>pooping</th>\n",
       "    </tr>\n",
       "  </thead>\n",
       "  <tbody>\n",
       "    <tr>\n",
       "      <th>Healthy</th>\n",
       "      <td>8.629357</td>\n",
       "      <td>8.523562</td>\n",
       "      <td>8.375039</td>\n",
       "    </tr>\n",
       "    <tr>\n",
       "      <th>Sick</th>\n",
       "      <td>2.807355</td>\n",
       "      <td>2.000000</td>\n",
       "      <td>3.169925</td>\n",
       "    </tr>\n",
       "  </tbody>\n",
       "</table>\n",
       "</div>"
      ],
      "text/plain": [
       "         sleeping    eating   pooping\n",
       "Healthy  8.629357  8.523562  8.375039\n",
       "Sick     2.807355  2.000000  3.169925"
      ]
     },
     "metadata": {},
     "output_type": "display_data"
    },
    {
     "name": "stdout",
     "output_type": "stream",
     "text": [
      "Difference:\n"
     ]
    },
    {
     "data": {
      "text/html": [
       "<div>\n",
       "<style scoped>\n",
       "    .dataframe tbody tr th:only-of-type {\n",
       "        vertical-align: middle;\n",
       "    }\n",
       "\n",
       "    .dataframe tbody tr th {\n",
       "        vertical-align: top;\n",
       "    }\n",
       "\n",
       "    .dataframe thead th {\n",
       "        text-align: right;\n",
       "    }\n",
       "</style>\n",
       "<table border=\"1\" class=\"dataframe\">\n",
       "  <thead>\n",
       "    <tr style=\"text-align: right;\">\n",
       "      <th></th>\n",
       "      <th>Healthy</th>\n",
       "      <th>Sick</th>\n",
       "    </tr>\n",
       "  </thead>\n",
       "  <tbody>\n",
       "    <tr>\n",
       "      <th>Start</th>\n",
       "      <td>0.0</td>\n",
       "      <td>0.0</td>\n",
       "    </tr>\n",
       "    <tr>\n",
       "      <th>Healthy</th>\n",
       "      <td>0.0</td>\n",
       "      <td>0.0</td>\n",
       "    </tr>\n",
       "    <tr>\n",
       "      <th>Sick</th>\n",
       "      <td>0.0</td>\n",
       "      <td>0.0</td>\n",
       "    </tr>\n",
       "  </tbody>\n",
       "</table>\n",
       "</div>"
      ],
      "text/plain": [
       "         Healthy  Sick\n",
       "Start        0.0   0.0\n",
       "Healthy      0.0   0.0\n",
       "Sick         0.0   0.0"
      ]
     },
     "metadata": {},
     "output_type": "display_data"
    },
    {
     "data": {
      "text/html": [
       "<div>\n",
       "<style scoped>\n",
       "    .dataframe tbody tr th:only-of-type {\n",
       "        vertical-align: middle;\n",
       "    }\n",
       "\n",
       "    .dataframe tbody tr th {\n",
       "        vertical-align: top;\n",
       "    }\n",
       "\n",
       "    .dataframe thead th {\n",
       "        text-align: right;\n",
       "    }\n",
       "</style>\n",
       "<table border=\"1\" class=\"dataframe\">\n",
       "  <thead>\n",
       "    <tr style=\"text-align: right;\">\n",
       "      <th></th>\n",
       "      <th>sleeping</th>\n",
       "      <th>eating</th>\n",
       "      <th>pooping</th>\n",
       "    </tr>\n",
       "  </thead>\n",
       "  <tbody>\n",
       "    <tr>\n",
       "      <th>Healthy</th>\n",
       "      <td>-0.108736</td>\n",
       "      <td>0.0</td>\n",
       "      <td>0.14142</td>\n",
       "    </tr>\n",
       "    <tr>\n",
       "      <th>Sick</th>\n",
       "      <td>0.000000</td>\n",
       "      <td>0.0</td>\n",
       "      <td>0.00000</td>\n",
       "    </tr>\n",
       "  </tbody>\n",
       "</table>\n",
       "</div>"
      ],
      "text/plain": [
       "         sleeping  eating  pooping\n",
       "Healthy -0.108736     0.0  0.14142\n",
       "Sick     0.000000     0.0  0.00000"
      ]
     },
     "metadata": {},
     "output_type": "display_data"
    },
    {
     "data": {
      "image/png": "[encoded data removed]",
      "text/plain": [
       "<Figure size 1080x576 with 1 Axes>"
      ]
     },
     "metadata": {},
     "output_type": "display_data"
    }
   ],
   "source": [
    "sequencesNoise = np.array(sequences)\n",
    "for i, sequence in enumerate(sequencesNoise):\n",
    "    changedObservation = random.choice(model.observations['observations'].values)\n",
    "    sequencesNoise[i, random.randint(0, len(sequence) - 1)] = changedObservation\n",
    "    \n",
    "print(np.asarray(sequences))\n",
    "print('--------------------------------------')\n",
    "print(sequencesNoise)\n",
    "print('\\n\\n')\n",
    "\n",
    "print(\"Model without Noise:\")\n",
    "display(fittedModel.Ptransition)\n",
    "display(fittedModel.Pemission)\n",
    "\n",
    "print(\"Model with Noise:\")\n",
    "fittedModelNoise = learn(model, sequencesNoise, 0.05)\n",
    "\n",
    "print(\"Difference:\")\n",
    "display(fittedModelNoise.Ptransition.subtract(fittedModel.Ptransition))\n",
    "display(fittedModelNoise.Pemission.subtract(fittedModel.Pemission))\n",
    "\n",
    "draw(fittedModelNoise)"
   ]
  }
 ],
 "metadata": {
  "kernelspec": {
   "display_name": "Python 3",
   "language": "python",
   "name": "python3"
  },
  "language_info": {
   "codemirror_mode": {
    "name": "ipython",
    "version": 3
   },
   "file_extension": ".py",
   "mimetype": "text/x-python",
   "name": "python",
   "nbconvert_exporter": "python",
   "pygments_lexer": "ipython3",
   "version": "3.5.5"
  }
 },
 "nbformat": 4,
 "nbformat_minor": 2
}
