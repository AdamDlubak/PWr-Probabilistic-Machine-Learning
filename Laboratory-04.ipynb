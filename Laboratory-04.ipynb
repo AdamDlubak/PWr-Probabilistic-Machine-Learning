{
 "cells": [
  {
   "cell_type": "markdown",
   "metadata": {},
   "source": [
    "Task List 4\n",
    "=================\n",
    "Bayesian concept learning\n",
    "----------------------\n",
    "\n",
    "**Knowledge & Skills:**\n",
    "* likelihood\n",
    "* apriori\n",
    "* aposteriori\n",
    "* maximum likelihood estimate\n",
    "* maximum aposteriori estimate\n",
    "\n",
    "Number game rules:\n",
    "* program takes number(numbers) and prints selected hypothesis using apropriate method\n",
    "* numbers are in range [1-500] (inclusive)\n",
    "* hypothesis space : odd numbers, even numbers, arithmetic sequences ([2,4,6,8,10,12,...], [3,6,9,12,15,...], ..., [40,80,120,160,...], ...)"
   ]
  },
  {
   "cell_type": "markdown",
   "metadata": {},
   "source": [
    "Libraries\n",
    "----------------"
   ]
  },
  {
   "cell_type": "code",
   "execution_count": 71,
   "metadata": {},
   "outputs": [],
   "source": [
    "from collections import OrderedDict\n",
    "from operator import itemgetter \n",
    "from collections import defaultdict\n",
    "import numpy as np\n",
    "import matplotlib.pyplot as plt"
   ]
  },
  {
   "cell_type": "markdown",
   "metadata": {},
   "source": [
    "Example Numbers\n",
    "----------------"
   ]
  },
  {
   "cell_type": "code",
   "execution_count": 72,
   "metadata": {},
   "outputs": [],
   "source": [
    "numbers_to_check = [\n",
    "    [1, 3, 5, 7, 9],\n",
    "    [2, 4, 6, 8, 10],\n",
    "    [2, 4, 8, 64, 16, 128, 256],\n",
    "    [2, 4, 8, 32, 64, 128, 256]\n",
    "]"
   ]
  },
  {
   "cell_type": "markdown",
   "metadata": {},
   "source": [
    "Prior Probability\n",
    "----------------"
   ]
  },
  {
   "cell_type": "code",
   "execution_count": 73,
   "metadata": {},
   "outputs": [
    {
     "name": "stdout",
     "output_type": "stream",
     "text": [
      "[9.999995285716508e-08, 0.9999995285716509, 8.57142453061415e-08, 9.999995285716508e-08, 9.999995285716508e-08, 7.142853775511792e-08, 1.4285707551023583e-08]\n"
     ]
    }
   ],
   "source": [
    "prior_probability = [7, 70000000, 6, 7, 7, 5, 1]\n",
    "sum_probability = sum(prior_probability)\n",
    "for i, item in enumerate(prior_probability):\n",
    "    prior_probability[i] = item / sum_probability\n",
    "\n",
    "print(prior_probability)"
   ]
  },
  {
   "cell_type": "markdown",
   "metadata": {},
   "source": [
    "Concepts\n",
    "----------------"
   ]
  },
  {
   "cell_type": "code",
   "execution_count": 74,
   "metadata": {},
   "outputs": [],
   "source": [
    "numbers = []\n",
    "for i in range(1, 501):\n",
    "    numbers.append(i)\n",
    "\n",
    "concepts = {\"odd_number\": \n",
    "            [(lambda x: x % 2 == 1), \n",
    "             (len(list(filter(lambda x: x % 2 == 1, numbers)))),\n",
    "            prior_probability[0]],\n",
    "           \"even_number\": \n",
    "            [(lambda x: x % 2 == 0), \n",
    "             (len(list(filter(lambda x: x % 2 == 0, numbers)))),\n",
    "            prior_probability[1]],\n",
    "           \"prime_number\": \n",
    "            [(lambda x: all(x % i != 0 for i in range(int(x**0.5)+1)[2:])),\n",
    "            (len(list(filter(lambda x: all(x % i != 0 for i in range(int(x**0.5)+1)[2:]), numbers)))),\n",
    "            prior_probability[2]],\n",
    "           \"range_number\": \n",
    "            [(lambda x: x >= 1 and x <= 100), \n",
    "            (len(list(filter(lambda x: x >= 1 and x <= 100, numbers)))),\n",
    "            prior_probability[3]],\n",
    "           \"power_of_two\": \n",
    "            [(lambda x: (any(x == 2**i for i in range(0, 9)) and x >= 1)), \n",
    "            (len(list(filter(lambda x: (any(x == 2**i for i in range(0, 9)) and x >= 1), numbers)))),\n",
    "            prior_probability[4]],\n",
    "           \"power_of_three\": \n",
    "            [(lambda x: (any(x == 3**i for i in range(0, 6)) and x >= 1)), \n",
    "            (len(list(filter(lambda x: (any(x == 3**i for i in range(0, 6)) and x >= 1), numbers)))),\n",
    "            prior_probability[5]],\n",
    "           \"strange_number\": \n",
    "            [(lambda x: (any(x == 2**i for i in range(0, 9)) and x >= 1) and x != 32), \n",
    "            (len(list(filter(lambda x: (any(x == 2**i for i in range(0, 9)) and x >= 1) and x != 32, numbers)))),\n",
    "            prior_probability[6]]\n",
    "           }"
   ]
  },
  {
   "cell_type": "markdown",
   "metadata": {},
   "source": [
    "Number of elements in the concept\n",
    "----------------"
   ]
  },
  {
   "cell_type": "code",
   "execution_count": 75,
   "metadata": {},
   "outputs": [
    {
     "name": "stdout",
     "output_type": "stream",
     "text": [
      "For range 1-500:\n",
      "\tThe number of odd_number is: 250 \n",
      "\tThe number of even_number is: 250 \n",
      "\tThe number of prime_number is: 96 \n",
      "\tThe number of range_number is: 100 \n",
      "\tThe number of power_of_two is: 9 \n",
      "\tThe number of power_of_three is: 6 \n",
      "\tThe number of strange_number is: 8 \n"
     ]
    }
   ],
   "source": [
    "print(\"For range 1-500:\")\n",
    "for keys,values in concepts.items():\n",
    "    print(\"\\tThe number of {} is: {} \".format(keys, values[1]))    "
   ]
  },
  {
   "cell_type": "markdown",
   "metadata": {},
   "source": [
    "Functions\n",
    "================="
   ]
  },
  {
   "cell_type": "code",
   "execution_count": 76,
   "metadata": {},
   "outputs": [],
   "source": [
    "def is_compatible(lambda_function, numbers):\n",
    "    is_compatible = True\n",
    "    for i in numbers:\n",
    "        if lambda_function(i) == False:\n",
    "            is_compatible = False\n",
    "            break\n",
    "    return is_compatible"
   ]
  },
  {
   "cell_type": "code",
   "execution_count": 77,
   "metadata": {},
   "outputs": [],
   "source": [
    "def count_likelihood(numbers, lambda_function):\n",
    "    return (1/lambda_function)**len(numbers)"
   ]
  },
  {
   "cell_type": "code",
   "execution_count": 78,
   "metadata": {},
   "outputs": [],
   "source": [
    "def count_posterior(value, probability):\n",
    "    return value * probability"
   ]
  },
  {
   "cell_type": "code",
   "execution_count": 79,
   "metadata": {},
   "outputs": [],
   "source": [
    "def count_if_possible(numbers, concept, results, name):\n",
    "    likelihood = count_likelihood(numbers, concept[1])\n",
    "    if is_compatible(concept[0], numbers) == True:\n",
    "        results[name] = [likelihood, count_posterior(likelihood, concept[2])]\n",
    "    else:\n",
    "        results[name] = [0, 0]\n",
    "    return results"
   ]
  },
  {
   "cell_type": "code",
   "execution_count": 80,
   "metadata": {},
   "outputs": [],
   "source": [
    "def number_game(numbers):\n",
    "    results = defaultdict(list)\n",
    "    for (keys, values) in concepts.items():\n",
    "        results = count_if_possible(numbers, values, results, keys)\n",
    "    return results"
   ]
  },
  {
   "cell_type": "markdown",
   "metadata": {},
   "source": [
    "Exercise 1\n",
    "================="
   ]
  },
  {
   "cell_type": "markdown",
   "metadata": {},
   "source": [
    "**Implement a simple number game based only on the likelihood:**\n",
    "\n",
    "* the program takes a number or an array of numbers\n",
    "* print likelihood of each possible concept (satisfied by given number/numbers) sorted by likelihood"
   ]
  },
  {
   "cell_type": "code",
   "execution_count": 81,
   "metadata": {},
   "outputs": [],
   "source": [
    "def number_game_likelihood_version(numbers):\n",
    "    if type(numbers) == int:\n",
    "        numbers = [numbers]\n",
    "    result = number_game(numbers)\n",
    "    print(\"Tested numbers: {} \".format(numbers))\n",
    "    result = OrderedDict(sorted(result.items(), key=lambda elem: elem[1][0], reverse = True))\n",
    "    for keys,values in result.items():\n",
    "        if values[0] != 0:\n",
    "            print(\"\\t{}: {}\".format(keys, values[0]))"
   ]
  },
  {
   "cell_type": "code",
   "execution_count": 82,
   "metadata": {},
   "outputs": [
    {
     "name": "stdout",
     "output_type": "stream",
     "text": [
      "Tested numbers: [2] \n",
      "\tstrange_number: 0.125\n",
      "\tpower_of_two: 0.1111111111111111\n",
      "\tprime_number: 0.010416666666666666\n",
      "\trange_number: 0.01\n",
      "\teven_number: 0.004\n"
     ]
    }
   ],
   "source": [
    "number_game_likelihood_version(2)"
   ]
  },
  {
   "cell_type": "markdown",
   "metadata": {},
   "source": [
    "Exercise 2\n",
    "================="
   ]
  },
  {
   "cell_type": "markdown",
   "metadata": {},
   "source": [
    "**Implement a simple number game based only on the posterior:**\n",
    "\n",
    "* the program takes an array of numbers and representation of prior probabilities(in any form, ex. lambda function, array etc.)\n",
    "* print posterior of each possible concept (satisfied by given number) sorted by posterior"
   ]
  },
  {
   "cell_type": "code",
   "execution_count": 83,
   "metadata": {},
   "outputs": [],
   "source": [
    "def number_game_posterior_version(numbers):\n",
    "    if type(numbers) == int:\n",
    "        numbers = [numbers]\n",
    "    result = number_game(numbers)\n",
    "    print(\"Tested numbers: {} \".format(numbers))\n",
    "    result = OrderedDict(sorted(result.items(), key=lambda elem: elem[1][1], reverse = True))\n",
    "    for keys,values in result.items():\n",
    "        if values[1] != 0:\n",
    "            print(\"\\t{}: {}\".format(keys, values[1]))\n"
   ]
  },
  {
   "cell_type": "code",
   "execution_count": 84,
   "metadata": {},
   "outputs": [
    {
     "name": "stdout",
     "output_type": "stream",
     "text": [
      "Tested numbers: [3, 9, 27] \n",
      "\tpower_of_three: 3.306876747922125e-10\n",
      "\trange_number: 9.99999528571651e-14\n",
      "\todd_number: 6.399996982858566e-15\n"
     ]
    }
   ],
   "source": [
    "number_game_posterior_version([3, 9, 27])"
   ]
  },
  {
   "cell_type": "markdown",
   "metadata": {},
   "source": [
    "Exercise 3\n",
    "================="
   ]
  },
  {
   "cell_type": "markdown",
   "metadata": {},
   "source": [
    "**Implement a number game:**\n",
    "* we can specify concepts manually using lambda functions\n",
    "    * lambda function says if given number is in given concept or not\n",
    "* the program accepts input numbers in an array\n",
    "* print sorted likelihood and posterior of hypothesis satisfying given numbers\n",
    "* use the MAP to select a correct hypothesis"
   ]
  },
  {
   "cell_type": "code",
   "execution_count": 85,
   "metadata": {},
   "outputs": [
    {
     "name": "stdout",
     "output_type": "stream",
     "text": [
      "Tested numbers: [1, 3, 5, 7, 9] \n",
      "Likelihood:\n",
      "\trange_number: 1.0000000000000002e-10\n",
      "\todd_number: 1.024e-12\n",
      "\teven_number: 0\n",
      "\tprime_number: 0\n",
      "\tpower_of_two: 0\n",
      "\tpower_of_three: 0\n",
      "\tstrange_number: 0\n",
      "Posterior:\n",
      "\trange_number: 9.99999528571651e-18\n",
      "\todd_number: 1.0239995172573705e-19\n",
      "\teven_number: 0\n",
      "\tprime_number: 0\n",
      "\tpower_of_two: 0\n",
      "\tpower_of_three: 0\n",
      "\tstrange_number: 0\n",
      "\n",
      "MAP Correct hypothesis is: range_number\n",
      "\n",
      "\n",
      "\n",
      "Tested numbers: [2, 4, 6, 8, 10] \n",
      "Likelihood:\n",
      "\trange_number: 1.0000000000000002e-10\n",
      "\teven_number: 1.024e-12\n",
      "\todd_number: 0\n",
      "\tprime_number: 0\n",
      "\tpower_of_two: 0\n",
      "\tpower_of_three: 0\n",
      "\tstrange_number: 0\n",
      "Posterior:\n",
      "\teven_number: 1.0239995172573706e-12\n",
      "\trange_number: 9.99999528571651e-18\n",
      "\todd_number: 0\n",
      "\tprime_number: 0\n",
      "\tpower_of_two: 0\n",
      "\tpower_of_three: 0\n",
      "\tstrange_number: 0\n",
      "\n",
      "MAP Correct hypothesis is: even_number\n",
      "\n",
      "\n",
      "\n",
      "Tested numbers: [2, 4, 8, 64, 16, 128, 256] \n",
      "Likelihood:\n",
      "\tstrange_number: 4.76837158203125e-07\n",
      "\tpower_of_two: 2.090751581287689e-07\n",
      "\teven_number: 1.6384000000000002e-17\n",
      "\todd_number: 0\n",
      "\tprime_number: 0\n",
      "\trange_number: 0\n",
      "\tpower_of_three: 0\n",
      "Posterior:\n",
      "\tpower_of_two: 2.0907505956481223e-14\n",
      "\tstrange_number: 6.81195619155101e-15\n",
      "\teven_number: 1.6383992276117928e-17\n",
      "\todd_number: 0\n",
      "\tprime_number: 0\n",
      "\trange_number: 0\n",
      "\tpower_of_three: 0\n",
      "\n",
      "MAP Correct hypothesis is: power_of_two\n",
      "\n",
      "\n",
      "\n",
      "Tested numbers: [2, 4, 8, 32, 64, 128, 256] \n",
      "Likelihood:\n",
      "\tpower_of_two: 2.090751581287689e-07\n",
      "\teven_number: 1.6384000000000002e-17\n",
      "\todd_number: 0\n",
      "\tprime_number: 0\n",
      "\trange_number: 0\n",
      "\tpower_of_three: 0\n",
      "\tstrange_number: 0\n",
      "Posterior:\n",
      "\tpower_of_two: 2.0907505956481223e-14\n",
      "\teven_number: 1.6383992276117928e-17\n",
      "\todd_number: 0\n",
      "\tprime_number: 0\n",
      "\trange_number: 0\n",
      "\tpower_of_three: 0\n",
      "\tstrange_number: 0\n",
      "\n",
      "MAP Correct hypothesis is: power_of_two\n",
      "\n",
      "\n",
      "\n"
     ]
    }
   ],
   "source": [
    "for i in numbers_to_check:\n",
    "    result = number_game(i)\n",
    "    print(\"Tested numbers: {} \".format(i))\n",
    "    result = OrderedDict(sorted(result.items(), key=lambda elem: elem[1][0], reverse = True))\n",
    "    print(\"Likelihood:\")\n",
    "    for keys,values in result.items():\n",
    "        print(\"\\t{}: {}\".format(keys, values[0]))\n",
    "\n",
    "    result = OrderedDict(sorted(result.items(), key=lambda elem: elem[1][1], reverse = True))\n",
    "    print(\"Posterior:\")\n",
    "    for keys,values in result.items():\n",
    "        print(\"\\t{}: {}\".format(keys, values[1]))\n",
    "\n",
    "    print(\"\\nMAP Correct hypothesis is: {}\\n\\n\\n\".format(max(result.items(), key=lambda elem: elem[1][1])[0]))"
   ]
  },
  {
   "cell_type": "markdown",
   "metadata": {},
   "source": [
    "Exercise 4\n",
    "================="
   ]
  },
  {
   "cell_type": "markdown",
   "metadata": {},
   "source": [
    "**Check if MAP converges to MLE:**\n",
    "\n",
    "* create chart:\n",
    "    * X axis - number of examples (up to whole concept)\n",
    "    * Y axis - MAP and MLE\n",
    "* test for 5 different hypothesis\n",
    "* assume some prior probabilitie"
   ]
  },
  {
   "cell_type": "markdown",
   "metadata": {},
   "source": [
    "Functions\n",
    "------------------"
   ]
  },
  {
   "cell_type": "code",
   "execution_count": 86,
   "metadata": {},
   "outputs": [],
   "source": [
    "def column(matrix, i):\n",
    "    return [row[i] for row in matrix]\n",
    "\n",
    "def Check_MAP_converges(i, MLE, MAP, index):\n",
    "    result = number_game(i)\n",
    "    for keys,values in result.items():\n",
    "        MLE[index].append(float(values[0])/sum(column(list(result.values()), 0)))\n",
    "        MAP[index].append(float(values[1])/sum(column(list(result.values()), 1)))"
   ]
  },
  {
   "cell_type": "markdown",
   "metadata": {},
   "source": [
    "Data preparation\n",
    "------------------"
   ]
  },
  {
   "cell_type": "code",
   "execution_count": 87,
   "metadata": {},
   "outputs": [],
   "source": [
    "numbers = numbers_to_check[3]\n",
    "\n",
    "hypothesis = [\n",
    "    \"odd_number\",\n",
    "    \"even_number\",\n",
    "    \"prime_number\",\n",
    "    \"range_number\",\n",
    "    \"power_of_two\",\n",
    "    \"power_of_three\",\n",
    "    \"strange_number\"   \n",
    "]\n",
    "\n",
    "label = []\n",
    "MLE = []\n",
    "MAP = []\n",
    "\n",
    "for i in numbers:\n",
    "    MLE.append([])\n",
    "    MAP.append([])\n",
    "\n",
    "for index in range(1, len(numbers)+1):\n",
    "    Check_MAP_converges(numbers[0:index], MLE, MAP, index-1)\n",
    "    label.append(numbers[0:index])"
   ]
  },
  {
   "cell_type": "markdown",
   "metadata": {},
   "source": [
    "Check all hypotheses\n",
    "-----------------"
   ]
  },
  {
   "cell_type": "code",
   "execution_count": 88,
   "metadata": {
    "scrolled": false
   },
   "outputs": [
    {
     "data": {
      "image/png": "[encoded data removed]",
      "text/plain": [
       "<matplotlib.figure.Figure at 0x28f6311c940>"
      ]
     },
     "metadata": {},
     "output_type": "display_data"
    },
    {
     "data": {
      "image/png": "[encoded data removed]",
      "text/plain": [
       "<matplotlib.figure.Figure at 0x28f630e4ba8>"
      ]
     },
     "metadata": {},
     "output_type": "display_data"
    },
    {
     "data": {
      "image/png": "[encoded data removed]",
      "text/plain": [
       "<matplotlib.figure.Figure at 0x28f63270f98>"
      ]
     },
     "metadata": {},
     "output_type": "display_data"
    },
    {
     "data": {
      "image/png": "[encoded data removed]",
      "text/plain": [
       "<matplotlib.figure.Figure at 0x28f6185aeb8>"
      ]
     },
     "metadata": {},
     "output_type": "display_data"
    },
    {
     "data": {
      "image/png": "[encoded data removed]",
      "text/plain": [
       "<matplotlib.figure.Figure at 0x28f6386dfd0>"
      ]
     },
     "metadata": {},
     "output_type": "display_data"
    },
    {
     "data": {
      "image/png": "[encoded data removed]",
      "text/plain": [
       "<matplotlib.figure.Figure at 0x28f631149e8>"
      ]
     },
     "metadata": {},
     "output_type": "display_data"
    },
    {
     "data": {
      "image/png": "[encoded data removed]",
      "text/plain": [
       "<matplotlib.figure.Figure at 0x28f61f93e48>"
      ]
     },
     "metadata": {},
     "output_type": "display_data"
    }
   ],
   "source": [
    "for index, hypothese in enumerate(hypothesis):\n",
    "    fig, ax = plt.subplots()\n",
    "    MLE_numbers = column(MLE, index)\n",
    "    MAP_numbers = column(MAP, index)\n",
    "    \n",
    "    N = len(MLE_numbers)\n",
    "    ind = np.arange(N)  # the x locations for the groups\n",
    "    width = 0.35  \n",
    "    \n",
    "\n",
    "    # add some text for labels, title and axes ticks\n",
    "    ax.set_ylabel('Probability')\n",
    "    ax.set_ylim([0,1])\n",
    "    ax.set_xticks(ind + width / 2)\n",
    "    ax.set_xticklabels(label)\n",
    "    ax.set_title(hypothese)\n",
    "         # the width of the bars\n",
    "\n",
    "    rects1 = ax.bar(ind, MLE_numbers, width, color='r')\n",
    "    rects2 = ax.bar(ind + width, MAP_numbers, width, color='y')\n",
    "\n",
    "    ax.legend((rects1[0], rects2[0]), ('MLE', 'MAP'))\n",
    "    plt.xticks(rotation=\"vertical\")\n",
    "    plt.show()"
   ]
  }
 ],
 "metadata": {
  "kernelspec": {
   "display_name": "Python 3",
   "language": "python",
   "name": "python3"
  },
  "language_info": {
   "codemirror_mode": {
    "name": "ipython",
    "version": 3
   },
   "file_extension": ".py",
   "mimetype": "text/x-python",
   "name": "python",
   "nbconvert_exporter": "python",
   "pygments_lexer": "ipython3",
   "version": "3.6.4"
  }
 },
 "nbformat": 4,
 "nbformat_minor": 2
}
