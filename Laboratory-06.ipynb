{
 "cells": [
  {
   "cell_type": "markdown",
   "metadata": {},
   "source": [
    "# List 6 \n",
    "\n",
    "### Simple naive bayes classifier\n",
    "\n",
    "\n",
    "\n",
    "\n",
    "\n",
    "1. Acquire appropriate dataset from [UCI Machine Learning Repository](https://archive.ics.uci.edu/ml/) (script within notebook/collaboratory, using pandas for manipulation), dataset must be different then Wine, Iris, Glass. In order to have easy task, take dataset with categorical attributes (otherwise you must discretize attributes values or make assumption about normality and estimate pdf's)\n",
    "2. Create function that calculate each class probability\n",
    "3. Create function that calculate probabilities for given value in each class for each attribute\n",
    "4. Using bayes rule create classifier that use computed probiabilities functions\n",
    "5. Evaluate classifier using train/test split (randomize instances, 80% of data as train, 20% as test)\n",
    "6. Compute evaluation metrics: accuracy, precission, recall, F1-score"
   ]
  },
  {
   "cell_type": "code",
   "execution_count": 1,
   "metadata": {},
   "outputs": [],
   "source": [
    "import numpy as np\n",
    "import pandas as pd\n",
    "import random\n",
    "import math\n",
    "\n",
    "import matplotlib.pyplot as plt\n",
    "import sklearn.metrics as metrics\n",
    "\n",
    "from sklearn import datasets\n",
    "from sklearn.metrics import accuracy_score\n",
    "from sklearn.metrics import classification_report\n",
    "from sklearn.metrics import confusion_matrix\n",
    "\n",
    "from sklearn.naive_bayes import MultinomialNB\n",
    "from sklearn.naive_bayes import GaussianNB\n",
    "\n",
    "from sklearn.preprocessing import LabelEncoder\n",
    "from sklearn.preprocessing import LabelEncoder\n",
    "\n",
    "from sklearn.model_selection import KFold\n",
    "from sklearn.model_selection import StratifiedKFold\n",
    "from sklearn.model_selection import ShuffleSplit\n",
    "from sklearn.model_selection import cross_val_score\n",
    "from sklearn.model_selection import cross_val_predict\n",
    "from sklearn.model_selection import cross_validate\n",
    "from sklearn.model_selection import train_test_split"
   ]
  },
  {
   "cell_type": "markdown",
   "metadata": {},
   "source": [
    "Import Datasets\n",
    "---------------"
   ]
  },
  {
   "cell_type": "code",
   "execution_count": 2,
   "metadata": {},
   "outputs": [],
   "source": [
    "def import_tic_tac_toe_dataset():\n",
    "    input_dataset = \"Data/Datasets/tic-tac-toe/tic-tac-toe.csv\"\n",
    "\n",
    "    data = pd.read_csv(input_dataset)\n",
    "    X = data.iloc[:,:].values\n",
    "    np.random.shuffle(X)\n",
    "    label_encoder_X = LabelEncoder()\n",
    "    X[:,0] = label_encoder_X.fit_transform(X[:,0])\n",
    "    X[:,1] = label_encoder_X.fit_transform(X[:,1])\n",
    "    X[:,2] = label_encoder_X.fit_transform(X[:,2])\n",
    "    X[:,3] = label_encoder_X.fit_transform(X[:,3])\n",
    "    X[:,4] = label_encoder_X.fit_transform(X[:,4])\n",
    "    X[:,5] = label_encoder_X.fit_transform(X[:,5])\n",
    "    X[:,6] = label_encoder_X.fit_transform(X[:,6])\n",
    "    X[:,7] = label_encoder_X.fit_transform(X[:,7])\n",
    "    X[:,8] = label_encoder_X.fit_transform(X[:,8])   \n",
    "    \n",
    "    return X"
   ]
  },
  {
   "cell_type": "code",
   "execution_count": 3,
   "metadata": {},
   "outputs": [],
   "source": [
    "def import_car_dataset():\n",
    "\n",
    "    input_dataset = \"Data/Datasets/car/car.csv\"\n",
    "    \n",
    "    data = pd.read_csv(input_dataset)\n",
    "    X = data.iloc[:,:].values  \n",
    "    np.random.shuffle(X)\n",
    "    \n",
    "    label_encoder_X = LabelEncoder()\n",
    "    X[:,0] = label_encoder_X.fit_transform(X[:,0])\n",
    "    X[:,1] = label_encoder_X.fit_transform(X[:,1])\n",
    "    X[:,2] = label_encoder_X.fit_transform(X[:,2])\n",
    "    X[:,3] = label_encoder_X.fit_transform(X[:,3])\n",
    "    X[:,4] = label_encoder_X.fit_transform(X[:,4])\n",
    "    X[:,5] = label_encoder_X.fit_transform(X[:,5])\n",
    "  \n",
    "    return X"
   ]
  },
  {
   "cell_type": "code",
   "execution_count": 4,
   "metadata": {},
   "outputs": [],
   "source": [
    "def import_balance_scale_dataset():\n",
    "    input_dataset = \"Data/Datasets/balance-scale/balance-scale.csv\"\n",
    "   \n",
    "    data = pd.read_csv(input_dataset)\n",
    "    data = data.iloc[:,:].values\n",
    "    \n",
    "    np.random.shuffle(data)\n",
    "\n",
    "    return data"
   ]
  },
  {
   "cell_type": "code",
   "execution_count": 5,
   "metadata": {},
   "outputs": [],
   "source": [
    "def import_monks_dataset():\n",
    "    input_dataset = \"Data/Datasets/monks/monks-1.csv\"\n",
    "   \n",
    "    data = pd.read_csv(input_dataset)\n",
    "    data = data.iloc[:,:].values\n",
    "    np.random.shuffle(data)\n",
    "\n",
    "    return data"
   ]
  },
  {
   "cell_type": "markdown",
   "metadata": {},
   "source": [
    "Import and Split Dataset\n",
    "----------------"
   ]
  },
  {
   "cell_type": "code",
   "execution_count": 6,
   "metadata": {},
   "outputs": [],
   "source": [
    "def import_dataset(id):\n",
    "    if id == 1:\n",
    "        dataset = import_car_dataset()\n",
    "    elif id == 2:\n",
    "        dataset = import_balance_scale_dataset()\n",
    "    elif id == 3:\n",
    "        dataset = import_monks_dataset()\n",
    "    else:\n",
    "        dataset = import_tic_tac_toe_dataset()\n",
    "    return dataset"
   ]
  },
  {
   "cell_type": "code",
   "execution_count": 7,
   "metadata": {},
   "outputs": [],
   "source": [
    "def split_data_for_built_in_classificator(train, test, split_ratio):    \n",
    "\n",
    "    X_train = np.array(train)[:,0:-1]\n",
    "    X_test = np.array(test)[:,0:-1]\n",
    "    y_train = np.array(train)[:,-1]\n",
    "    y_test = np.array(test)[:,-1]\n",
    "    print('There are {} samples in the training set and {} samples in the test set'.format(X_train.shape[0], X_test.shape[0]))\n",
    "    \n",
    "    return X_train, X_test, y_train, y_test\n",
    "\n",
    "def split_data_for_own_classificator(dataset, split_ratio):\n",
    "    trainSize = int(len(dataset) * split_ratio)\n",
    "    trainSet = []\n",
    "    testSet = list(dataset)\n",
    "#     index = 0\n",
    "    while len(trainSet) < trainSize:\n",
    "#         index = random.randrange(len(testSet))\n",
    "        trainSet.append(testSet.pop())\n",
    "#         index = index + 1\n",
    "    return [trainSet, testSet]"
   ]
  },
  {
   "cell_type": "markdown",
   "metadata": {},
   "source": [
    "Built-In Classificators\n",
    "---------------"
   ]
  },
  {
   "cell_type": "code",
   "execution_count": 8,
   "metadata": {},
   "outputs": [],
   "source": [
    "def multinomial_classificator(X_train, X_test, y_train, y_test):\n",
    "    clf = MultinomialNB()\n",
    "    clf.fit(X_train, y_train)\n",
    "    y_pred = clf.predict(X_test)\n",
    "    return clf, y_pred\n",
    "\n",
    "def gauss_classificator(X_train, X_test, y_train, y_test):\n",
    "    clf = GaussianNB()\n",
    "    clf.fit(X_train, y_train)\n",
    "    y_pred = clf.predict(X_test)\n",
    "    return clf, y_pred"
   ]
  },
  {
   "cell_type": "markdown",
   "metadata": {},
   "source": [
    "Own Classificator Functions\n",
    "============"
   ]
  },
  {
   "cell_type": "markdown",
   "metadata": {},
   "source": [
    "Class Summary\n",
    "---------------------"
   ]
  },
  {
   "cell_type": "code",
   "execution_count": 9,
   "metadata": {},
   "outputs": [],
   "source": [
    "def summarize_by_class(dataset):\n",
    "    separated = separate_by_class(dataset)\n",
    "    summaries = {}\n",
    "    for classValue, instances in separated.items():\n",
    "        summaries[classValue] = summarize(instances)\n",
    "    return summaries\n",
    "\n",
    "def separate_by_class(dataset):\n",
    "    separated = {}\n",
    "    for i in range(len(dataset)):\n",
    "        vector = dataset[i]\n",
    "        if (vector[-1] not in separated):\n",
    "            separated[vector[-1]] = []\n",
    "        separated[vector[-1]].append(vector)\n",
    "    return separated\n",
    "\n",
    "def summarize(dataset):\n",
    "    summaries = [(np.mean(attribute), np.std(attribute)) for attribute in zip(*dataset)]\n",
    "    del summaries[-1]\n",
    "    return summaries"
   ]
  },
  {
   "cell_type": "markdown",
   "metadata": {},
   "source": [
    "Class Preditction\n",
    "-----------------"
   ]
  },
  {
   "cell_type": "code",
   "execution_count": 10,
   "metadata": {},
   "outputs": [],
   "source": [
    "def get_predictions(summaries, testSet):\n",
    "    predictions = []\n",
    "    for i in range(len(testSet)):\n",
    "        result = predict(summaries, testSet[i])\n",
    "        predictions.append(result)\n",
    "    return np.array(predictions)\n",
    "\n",
    "def predict(summaries, inputVector):\n",
    "    probabilities = calculate_class_probabilities(summaries, inputVector)\n",
    "    bestLabel, bestProb = None, -1\n",
    "    for classValue, probability in probabilities.items():\n",
    "        if bestLabel is None or probability > bestProb:\n",
    "            bestProb = probability\n",
    "            bestLabel = classValue\n",
    "    return bestLabel\n",
    "\n",
    "def calculate_class_probabilities(summaries, inputVector):\n",
    "    probabilities = {}\n",
    "    for classValue, classSummaries in summaries.items():\n",
    "        probabilities[classValue] = 1\n",
    "        for i in range(len(classSummaries)):\n",
    "            mean, stdev = classSummaries[i]\n",
    "            x = inputVector[i]\n",
    "            probabilities[classValue] *= calculate_probability(x, mean, stdev)\n",
    "    return probabilities\n",
    "\n",
    "def calculate_probability(x, mean, stdev):\n",
    "    exponent = math.exp(-(math.pow(x-mean,2)/(2*math.pow(stdev,2))))\n",
    "    return (1 / (math.sqrt(2*math.pi) * stdev)) * exponent"
   ]
  },
  {
   "cell_type": "markdown",
   "metadata": {},
   "source": [
    "Classification Statistics\n",
    "---------------"
   ]
  },
  {
   "cell_type": "code",
   "execution_count": 11,
   "metadata": {},
   "outputs": [],
   "source": [
    "def confusion_matrix_generator(Y_test, Y_pred):\n",
    "    cm = metrics.confusion_matrix(Y_test, Y_pred)\n",
    "    img = plt.matshow(cm, cmap=plt.cm.autumn)\n",
    "    plt.colorbar(img, fraction=0.045)\n",
    "    for x in range(cm.shape[0]):\n",
    "        for y in range(cm.shape[1]):\n",
    "            plt.text(x, y, \"%0.2f\" % cm[x,y], \n",
    "                     size=12, color='black', ha=\"center\", va=\"center\")\n",
    "    plt.show()"
   ]
  },
  {
   "cell_type": "code",
   "execution_count": 12,
   "metadata": {},
   "outputs": [],
   "source": [
    "def print_classification_statistics(y_test, y_pred):\n",
    "    accuracy = accuracy_score(y_test, y_pred)\n",
    "    print (classification_report(y_test, y_pred))\n",
    "    print('Accuracy: {0}'.format(accuracy))\n",
    "    confusion_matrix_generator(y_test, y_pred)    "
   ]
  },
  {
   "cell_type": "markdown",
   "metadata": {},
   "source": [
    "Main Program\n",
    "--------------"
   ]
  },
  {
   "cell_type": "code",
   "execution_count": 13,
   "metadata": {},
   "outputs": [],
   "source": [
    "def main(split_ratio, dataset_id, classificator):\n",
    "    dataset = import_dataset(dataset_id)\n",
    "    training_set, test_set = split_data_for_own_classificator(dataset, split_ratio)\n",
    "    if classificator == 1:\n",
    "        summaries = summarize_by_class(training_set)\n",
    "        y_pred = get_predictions(summaries, test_set)\n",
    "        y_test = np.array(test_set)[:,-1]\n",
    "    else:\n",
    "        X_train, X_test, y_train, y_test = split_data_for_built_in_classificator(training_set, test_set, split_ratio)\n",
    "        if classificator == 2:\n",
    "            clf, y_pred = gauss_classificator(X_train, X_test, y_train, y_test)\n",
    "        else:\n",
    "            clf, y_pred = multinomial_classificator(X_train, X_test, y_train, y_test)    \n",
    "            \n",
    "    print_classification_statistics(y_test, y_pred)"
   ]
  },
  {
   "cell_type": "markdown",
   "metadata": {},
   "source": [
    "Working Part of Program\n",
    "================="
   ]
  },
  {
   "cell_type": "markdown",
   "metadata": {},
   "source": [
    "**main(split_ratio, dataset, classificator)**\n",
    "\n",
    "**Classificator:**\n",
    "0. Own classificator\n",
    "1. Gaussian Classificator\n",
    "2. Multinomial Classificator"
   ]
  },
  {
   "cell_type": "code",
   "execution_count": 14,
   "metadata": {
    "scrolled": false
   },
   "outputs": [
    {
     "name": "stdout",
     "output_type": "stream",
     "text": [
      "             precision    recall  f1-score   support\n",
      "\n",
      "          0       0.65      0.65      0.65        51\n",
      "          1       0.70      0.70      0.70        61\n",
      "\n",
      "avg / total       0.68      0.68      0.68       112\n",
      "\n",
      "Accuracy: 0.6785714285714286\n"
     ]
    },
    {
     "data": {
      "image/png": "[encoded data removed]",
      "text/plain": [
       "<Figure size 288x288 with 2 Axes>"
      ]
     },
     "metadata": {},
     "output_type": "display_data"
    },
    {
     "name": "stdout",
     "output_type": "stream",
     "text": [
      "There are 444 samples in the training set and 112 samples in the test set\n",
      "             precision    recall  f1-score   support\n",
      "\n",
      "          0       0.58      0.60      0.59        50\n",
      "          1       0.67      0.65      0.66        62\n",
      "\n",
      "avg / total       0.63      0.62      0.63       112\n",
      "\n",
      "Accuracy: 0.625\n"
     ]
    },
    {
     "data": {
      "image/png": "[encoded data removed]",
      "text/plain": [
       "<Figure size 288x288 with 2 Axes>"
      ]
     },
     "metadata": {},
     "output_type": "display_data"
    },
    {
     "name": "stdout",
     "output_type": "stream",
     "text": [
      "There are 444 samples in the training set and 112 samples in the test set\n",
      "             precision    recall  f1-score   support\n",
      "\n",
      "          0       0.80      0.66      0.72        59\n",
      "          1       0.68      0.81      0.74        53\n",
      "\n",
      "avg / total       0.74      0.73      0.73       112\n",
      "\n",
      "Accuracy: 0.7321428571428571\n"
     ]
    },
    {
     "data": {
      "image/png": "[encoded data removed]",
      "text/plain": [
       "<Figure size 288x288 with 2 Axes>"
      ]
     },
     "metadata": {},
     "output_type": "display_data"
    }
   ],
   "source": [
    "main(0.8, 3, 1)\n",
    "main(0.8, 3, 2)\n",
    "main(0.8, 3, 3)"
   ]
  }
 ],
 "metadata": {
  "kernelspec": {
   "display_name": "Python 3",
   "language": "python",
   "name": "python3"
  },
  "language_info": {
   "codemirror_mode": {
    "name": "ipython",
    "version": 3
   },
   "file_extension": ".py",
   "mimetype": "text/x-python",
   "name": "python",
   "nbconvert_exporter": "python",
   "pygments_lexer": "ipython3",
   "version": "3.5.5"
  }
 },
 "nbformat": 4,
 "nbformat_minor": 2
}
